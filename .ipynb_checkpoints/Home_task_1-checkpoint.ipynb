{
 "cells": [
  {
   "cell_type": "code",
   "execution_count": null,
   "id": "2519cab3",
   "metadata": {},
   "outputs": [],
   "source": [
    "Ответы: \n",
    "1) а) 8/37\n",
    "   б) 991/990\n",
    "2) 13\n",
    "3) a)(A∨B)→(B∨A¯) - Выражение не является тавтологией\n",
    "   б)A→(A∨(B¯∧A)) - Выражение является тавтологией\n",
    "4) а) Если сегодня не светит солнце или сегодня сыро, то я не поеду на дачу\n",
    "   б) Если я поеду на дачу, то сегодня светит солнце или сегодня не сыро\n",
    "5) а) Есть курс факультета, на котором каждый студент, сдает один экзамен на отлично\n",
    "   б) Есть самолет на рейсе Вашингтон-Москва на котором у каждого сотрудника силовых органов, в пуговице одежды вмонтирован микрофон.\n",
    "P.S. Ниже описаны все решения    "
   ]
  },
  {
   "cell_type": "code",
   "execution_count": 10,
   "id": "de09eec0",
   "metadata": {},
   "outputs": [
    {
     "name": "stdout",
     "output_type": "stream",
     "text": [
      "Couldn't find program: 'false'\n"
     ]
    }
   ],
   "source": [
    "%%script false\n",
    "1. Представьте в виде несократимой рациональной дроби:\n",
    "\n",
    "а)0.(216); \n",
    "б)1.0(01)."
   ]
  },
  {
   "cell_type": "code",
   "execution_count": 2,
   "id": "c92541c8",
   "metadata": {},
   "outputs": [
    {
     "name": "stdout",
     "output_type": "stream",
     "text": [
      "Couldn't find program: 'false'\n"
     ]
    }
   ],
   "source": [
    "%%script false\n",
    "a = 0.(216)\n",
    "1000а = 216.(216)\n",
    "1000a = 216 + 0.(216) // a = 0.(216)\n",
    "999a = 216\n",
    "a = 216/999 = 8/37\n",
    "0.(216) = 8/37"
   ]
  },
  {
   "cell_type": "code",
   "execution_count": null,
   "id": "593d45c1",
   "metadata": {},
   "outputs": [],
   "source": [
    "%%script false\n",
    "a = 1.0(01)\n",
    "10a = 10 + 0.(01)\n",
    "b = 0.(01)\n",
    "100b = 1 + b\n",
    "99b = 1\n",
    "b = 1/99\n",
    "10a = 10 + 1/99\n",
    "a = 991/990"
   ]
  },
  {
   "cell_type": "code",
   "execution_count": 12,
   "id": "295b3b6a",
   "metadata": {},
   "outputs": [
    {
     "name": "stdout",
     "output_type": "stream",
     "text": [
      "Couldn't find program: 'false'\n"
     ]
    }
   ],
   "source": [
    "%%script false\n",
    "3. Проверьте любым способ, является ли данные логические формулы тавтологией:\n",
    "\n",
    "a)(A∨B)→(B∨A¯) - Выражение не является тавтологией\n",
    "б)A→(A∨(B¯∧A)) - Выражение является тавтологией"
   ]
  },
  {
   "cell_type": "code",
   "execution_count": 18,
   "id": "b34441ac",
   "metadata": {},
   "outputs": [
    {
     "data": {
      "text/html": [
       "<table>\n",
       "<tbody>\n",
       "<tr><td>A           </td><td style=\"text-align: right;\">0</td><td style=\"text-align: right;\">1</td><td style=\"text-align: right;\">0</td><td style=\"text-align: right;\">1</td></tr>\n",
       "<tr><td>B           </td><td style=\"text-align: right;\">0</td><td style=\"text-align: right;\">0</td><td style=\"text-align: right;\">1</td><td style=\"text-align: right;\">1</td></tr>\n",
       "<tr><td>AvB         </td><td style=\"text-align: right;\">0</td><td style=\"text-align: right;\">1</td><td style=\"text-align: right;\">1</td><td style=\"text-align: right;\">1</td></tr>\n",
       "<tr><td>BvA¯        </td><td style=\"text-align: right;\">1</td><td style=\"text-align: right;\">0</td><td style=\"text-align: right;\">1</td><td style=\"text-align: right;\">1</td></tr>\n",
       "<tr><td>(A∨B)→(B∨A¯)</td><td style=\"text-align: right;\">1</td><td style=\"text-align: right;\">0</td><td style=\"text-align: right;\">1</td><td style=\"text-align: right;\">1</td></tr>\n",
       "</tbody>\n",
       "</table>"
      ],
      "text/plain": [
       "<IPython.core.display.HTML object>"
      ]
     },
     "metadata": {},
     "output_type": "display_data"
    }
   ],
   "source": [
    "from IPython.display import HTML, display\n",
    "from tabulate import tabulate \n",
    "tabledata = [['A',    0, 1, 0, 1],\n",
    "             ['B',    0, 0, 1, 1],\n",
    "             ['AvB',  0, 1, 1, 1],\n",
    "             ['BvA¯', 1, 0, 1, 1],\n",
    "             ['(A∨B)→(B∨A¯)', 1, 0, 1, 1]]\n",
    "display(HTML(tabulate(tabledata, tablefmt='html')))"
   ]
  },
  {
   "cell_type": "code",
   "execution_count": 20,
   "id": "43141e3d",
   "metadata": {},
   "outputs": [
    {
     "data": {
      "text/html": [
       "<table>\n",
       "<tbody>\n",
       "<tr><td>A           </td><td style=\"text-align: right;\">0</td><td style=\"text-align: right;\">1</td><td style=\"text-align: right;\">0</td><td style=\"text-align: right;\">1</td></tr>\n",
       "<tr><td>B           </td><td style=\"text-align: right;\">0</td><td style=\"text-align: right;\">0</td><td style=\"text-align: right;\">1</td><td style=\"text-align: right;\">1</td></tr>\n",
       "<tr><td>B¯∧A        </td><td style=\"text-align: right;\">0</td><td style=\"text-align: right;\">0</td><td style=\"text-align: right;\">0</td><td style=\"text-align: right;\">1</td></tr>\n",
       "<tr><td>A∨(B¯∧A)    </td><td style=\"text-align: right;\">0</td><td style=\"text-align: right;\">1</td><td style=\"text-align: right;\">0</td><td style=\"text-align: right;\">1</td></tr>\n",
       "<tr><td>A→(A∨(B¯∧A))</td><td style=\"text-align: right;\">1</td><td style=\"text-align: right;\">1</td><td style=\"text-align: right;\">1</td><td style=\"text-align: right;\">1</td></tr>\n",
       "</tbody>\n",
       "</table>"
      ],
      "text/plain": [
       "<IPython.core.display.HTML object>"
      ]
     },
     "metadata": {},
     "output_type": "display_data"
    }
   ],
   "source": [
    "tabledata = [\n",
    "    ['A',            0, 1, 0, 1],\n",
    "    ['B',            0, 0, 1, 1],\n",
    "    ['B¯∧A',         0, 0, 0, 1],\n",
    "    ['A∨(B¯∧A)',     0, 1, 0, 1],\n",
    "    ['A→(A∨(B¯∧A))', 1, 1, 1, 1]\n",
    "]\n",
    "display(HTML(tabulate(tabledata, tablefmt='html')))"
   ]
  },
  {
   "cell_type": "code",
   "execution_count": null,
   "id": "85c2c5f4",
   "metadata": {},
   "outputs": [],
   "source": [
    "4.Сформулируйте словесно высказывания:\n",
    "\n",
    "a)(A¯∨B)→C¯\n",
    "б)C→(A∨B¯) \n",
    "A:сегодня светит солнце;\n",
    "B:сегодня сыро;\n",
    "C:я поеду на дачу."
   ]
  },
  {
   "cell_type": "code",
   "execution_count": null,
   "id": "320f1670",
   "metadata": {},
   "outputs": [],
   "source": [
    "а) Если сегодня не светит солнце или сегодня сыро, то я не поеду на дачу\n",
    "б) Если я поеду на дачу, то сегодня светит солнце или сегодня не сыро"
   ]
  },
  {
   "cell_type": "code",
   "execution_count": null,
   "id": "c2ec665e",
   "metadata": {},
   "outputs": [],
   "source": [
    "5. Пользуясь правилом построения противоположного высказывания, запишите утверждения, противоположные следующим:\n",
    "\n",
    "a) На любом курсе каждого факультета есть студенты, сдающие все экзамены на «отлично».\n",
    "\n",
    "б) В любом самолете на рейсе Вашингтон-Москва присутствует хотя бы один сотрудник силовых органов, в каждой пуговице одежды которого вмонтирован микрофон."
   ]
  },
  {
   "cell_type": "code",
   "execution_count": null,
   "id": "4d6e8e89",
   "metadata": {},
   "outputs": [],
   "source": [
    "а) ∀ курсе ∀ факультета ∃ студенты, сдающие ∀ экзамены на отлично\n",
    "∃ курсе ∃ факультета ∀ студенты, сдающие ∃ экзамены на отлично \n",
    "Есть курс факультета, на котором каждый студент, сдает один экзамен на отлично\n",
    "б) ∀ самолете на рейсе Вашингтон-Москва ∃ сотрудник силовых органов, ∀ пуговице одежды которого вмонтирован микрофон.\n",
    "∃ самолете на рейсе Вашингтон-Москва ∀ сотрудник силовых органов, ∃ пуговице одежды которого вмонтирован микрофон.\n",
    "Есть самолет на рейсе Вашингтон-Москва на котором у каждого сотрудника силовых органов, в пуговице одежды вмонтирован микрофон."
   ]
  },
  {
   "cell_type": "code",
   "execution_count": null,
   "id": "1215673a",
   "metadata": {},
   "outputs": [],
   "source": [
    "2. Пусть  x=2/21 . Известно, что для некоторого натурального  k  число  x  записывается в  k  - ичной системе счисления как  0.(13)k=0,131313...k . Найдите  k ."
   ]
  },
  {
   "cell_type": "code",
   "execution_count": 28,
   "id": "06c891da",
   "metadata": {},
   "outputs": [
    {
     "ename": "SyntaxError",
     "evalue": "invalid syntax (Temp/ipykernel_7980/666185204.py, line 1)",
     "output_type": "error",
     "traceback": [
      "\u001b[1;36m  File \u001b[1;32m\"C:\\Users\\trofi\\AppData\\Local\\Temp/ipykernel_7980/666185204.py\"\u001b[1;36m, line \u001b[1;32m1\u001b[0m\n\u001b[1;33m    0.(13) - приведем к десятичной\u001b[0m\n\u001b[1;37m                      ^\u001b[0m\n\u001b[1;31mSyntaxError\u001b[0m\u001b[1;31m:\u001b[0m invalid syntax\n"
     ]
    }
   ],
   "source": [
    "0.(13) - приведем к десятичной \n",
    "получим уравнение 0.(13)k = \n",
    "2/21 = k^(-1) + 3 * k^(-2)\n",
    "21 / (2 * k) + 63 / (2 * k^2) - 1 = 0\n",
    "Получаем два корня k1 = 12.9, k2 = -2.5\n",
    "Наш k1 = 13 после округления\n",
    "Ответ: k = 13\n",
    "P.S. честно не помню решение квадратного уравнения чере дискриминант, поэтому воспльзовался онлайн калькулятором."
   ]
  },
  {
   "cell_type": "code",
   "execution_count": null,
   "id": "8636e8ae",
   "metadata": {},
   "outputs": [],
   "source": [
    "a)∀x∈R∃X∈R:X>x; \n",
    " Каждый х принадлежит множеству R, есть множество X который принадлежит множеству R< \n",
    "б)∀y∈[0;π2]∃ε>0:siny<sin(y+ε); \n",
    "в)∀y∈[0;π)∃ε>0:cosy>cos(y+ε)."
   ]
  },
  {
   "cell_type": "code",
   "execution_count": null,
   "id": "e7250df0",
   "metadata": {},
   "outputs": [],
   "source": []
  }
 ],
 "metadata": {
  "kernelspec": {
   "display_name": "Python 3 (ipykernel)",
   "language": "python",
   "name": "python3"
  },
  "language_info": {
   "codemirror_mode": {
    "name": "ipython",
    "version": 3
   },
   "file_extension": ".py",
   "mimetype": "text/x-python",
   "name": "python",
   "nbconvert_exporter": "python",
   "pygments_lexer": "ipython3",
   "version": "3.9.2"
  }
 },
 "nbformat": 4,
 "nbformat_minor": 5
}
