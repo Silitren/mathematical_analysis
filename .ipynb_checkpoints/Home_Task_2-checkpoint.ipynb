{
 "cells": [
  {
   "cell_type": "markdown",
   "id": "0c32232b",
   "metadata": {},
   "source": [
    "Ответы:\n",
    " \n",
    "1.\n",
    "- а) -9/2\n",
    "- б) -4/3 \n",
    "- в) -1/2 \n",
    "- г) 0 \n",
    "- д) 5/49\n",
    "2. 1 = 1/2 + 1/3 + 1/6\n",
    "3. 1 = 1/2 + 1/3 + 1/12 + 1/18 + 1/36.\n",
    "4. −log<sub>2</sub>ε, если ε = 1/2<sup>(n)</sup>\n",
    "5. последовательность рачходится т.к., ∃ε>0 (1/2 = ε) \n",
    "\n",
    "P.S. Постараюсь оформлять решения более понятно в слудеющих ДЗ"
   ]
  },
  {
   "cell_type": "markdown",
   "id": "f2c61713",
   "metadata": {},
   "source": [
    "1. Найти предел последовательности:\n",
    "\n",
    "- a) lim<sub>(n→∞)</sub>(23−2n2)(3n2+17)24n6+n−1\n",
    "- б)lim<sub>(n→∞)</sub>(97−2n)32n(3n2+15)+8n \n",
    "- в)lim<sub>(n→∞)</sub> 2n3+13n(n+18)(27−n)(2n+19)2 \n",
    "- г)lim<sub>(n→∞)</sub>(n2+1−−−−−√−n) \n",
    "- д)lim<sub>(n→∞)</sub>(−4)n+5⋅7n(−4)n−1+7n+2 \n",
    "- е)lim<sub>(n→∞)</sub>(11⋅2+12⋅3+13⋅4+...+1(n−1)⋅n)"
   ]
  },
  {
   "cell_type": "code",
   "execution_count": null,
   "id": "7a212dbc",
   "metadata": {},
   "outputs": [],
   "source": [
    "a) -18/4 = -9/2 - степень в числителе 6, в знаменателе 6\n",
    "б) -4/3 - (1 целая и 1/3) - степень в числителе 3, в знаменателе 3\n",
    "в) -1/2 - степень в числителе 2, в знаменателе 3\n",
    "г) 0 - 1/∞ в ответе пролучается\n",
    "д) 5/49"
   ]
  },
  {
   "cell_type": "code",
   "execution_count": null,
   "id": "fce366f7",
   "metadata": {},
   "outputs": [],
   "source": [
    "2) Представьте  1  в виде суммы трех рациональных дробей с разными знаменателями и числителем равным  1 ."
   ]
  },
  {
   "cell_type": "code",
   "execution_count": null,
   "id": "990bb3da",
   "metadata": {},
   "outputs": [],
   "source": [
    "2)1 = 1/2 + 1/3 + 1/6"
   ]
  },
  {
   "cell_type": "code",
   "execution_count": null,
   "id": "7a4b9b9e",
   "metadata": {},
   "outputs": [],
   "source": [
    "3) Тоже задание, только в виде суммы шести дробей."
   ]
  },
  {
   "cell_type": "code",
   "execution_count": null,
   "id": "976b8285",
   "metadata": {},
   "outputs": [],
   "source": [
    "3) надо на 1/6, получим 1/36 1 = 1/2 + 1/3 + 1/12 + 1/18 + 1/36."
   ]
  },
  {
   "cell_type": "code",
   "execution_count": null,
   "id": "d157a0b4",
   "metadata": {},
   "outputs": [],
   "source": [
    "4)Пользуясь критерием Коши, докажите сходимость последовательности:\n",
    "\n",
    "an=sin12+sin222+sin323+..sinn2n⇒ \n",
    "{an}∞n=1={sin12,sin12+sin222,...,an,...}"
   ]
  },
  {
   "cell_type": "markdown",
   "id": "906b5b5d",
   "metadata": {},
   "source": [
    "4) надо учесть что модуль синуса будет [0..1] \n",
    "1/2**n < ε <1/2**N(ε)=ε 1/2**N(ε)=ε⇒2**N(ε)=1ε⇒N(ε)=−log2ε\n"
   ]
  },
  {
   "cell_type": "code",
   "execution_count": null,
   "id": "9a1e421a",
   "metadata": {},
   "outputs": [],
   "source": [
    "5) Пользуясь критерием Коши, докажите расходимость последовательности:\n",
    "\n",
    "bn=1+12+13+..1n⇒ \n",
    "{bn}∞n=1={1,1+12,1+12+13,...,bn,...}"
   ]
  },
  {
   "cell_type": "code",
   "execution_count": null,
   "id": "584f86ba",
   "metadata": {},
   "outputs": [],
   "source": [
    "|a(n+k)-a(k)| = 1/(n+1)+ ..+1/(n+k) > k/(n+k) , то при k = n |xn+k - xn|>n/2n = 1/2 = ε."
   ]
  }
 ],
 "metadata": {
  "kernelspec": {
   "display_name": "Python 3 (ipykernel)",
   "language": "python",
   "name": "python3"
  },
  "language_info": {
   "codemirror_mode": {
    "name": "ipython",
    "version": 3
   },
   "file_extension": ".py",
   "mimetype": "text/x-python",
   "name": "python",
   "nbconvert_exporter": "python",
   "pygments_lexer": "ipython3",
   "version": "3.9.2"
  }
 },
 "nbformat": 4,
 "nbformat_minor": 5
}
