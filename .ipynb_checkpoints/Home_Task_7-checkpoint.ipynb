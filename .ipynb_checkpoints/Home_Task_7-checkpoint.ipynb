{
 "cells": [
  {
   "cell_type": "markdown",
   "id": "e09c08d1",
   "metadata": {},
   "source": [
    "1) Задание: \n",
    "Ответ: Δ=-288λ\n",
    "Если  λ=5/6 , то  Δ<0 , следовательно  (-24/5; -18/5; 5/6)  - точка минимума.\n",
    "Если  λ=-5/6 , то  Δ>0 , следовательно  (24/5; 18/5; -5/6)  - точка максимума."
   ]
  },
  {
   "cell_type": "markdown",
   "id": "99be40e9",
   "metadata": {},
   "source": [
    "2) Задание:\n",
    "Ответ: Δ=16+2λ\n",
    "    Если  λ=-56 , то  Δ<0 , следовательно  (192; 168; -56)  - точка минимума.\n",
    "    Если  λ=-8 , то  Δ>0 , следовательно  (192; -48; -8)  - точка максимума."
   ]
  },
  {
   "cell_type": "code",
   "execution_count": 19,
   "id": "173c00af",
   "metadata": {},
   "outputs": [
    {
     "name": "stdout",
     "output_type": "stream",
     "text": [
      "3.3627465880170946 0.2955547434324221\n"
     ]
    }
   ],
   "source": [
    "# 3) Задание\n",
    "from scipy.optimize import fsolve, broyden2\n",
    "import math\n",
    "\n",
    "def equations(p):\n",
    "    x, y = p\n",
    "    # Запись системы уравнения\n",
    "    return (x**2-y**2+3*x*(y**3)-2*(x**2)*(y**2)+2*x-38*y-5, 3*(y**3)-2*(x**2)+2*(x**3)*y-5*(x**2)*(y**2)+5)\n",
    "\n",
    "# Численное решение системы уравнений\n",
    "x, y = fsolve(equations, (60, 60))\n",
    "print (x, y)"
   ]
  },
  {
   "cell_type": "code",
   "execution_count": null,
   "id": "a9edd3a1",
   "metadata": {},
   "outputs": [],
   "source": [
    "\n"
   ]
  }
 ],
 "metadata": {
  "kernelspec": {
   "display_name": "Python 3 (ipykernel)",
   "language": "python",
   "name": "python3"
  },
  "language_info": {
   "codemirror_mode": {
    "name": "ipython",
    "version": 3
   },
   "file_extension": ".py",
   "mimetype": "text/x-python",
   "name": "python",
   "nbconvert_exporter": "python",
   "pygments_lexer": "ipython3",
   "version": "3.9.2"
  }
 },
 "nbformat": 4,
 "nbformat_minor": 5
}
