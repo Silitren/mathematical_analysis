{
 "cells": [
  {
   "cell_type": "markdown",
   "id": "e09c08d1",
   "metadata": {},
   "source": [
    "1) Задание: \n",
    "Ответ: Δ=-288λ\n",
    "Если  λ=5/6 , то  Δ<0 , следовательно  (24/5; -18/5; 5/6)  - точка минимума.\n",
    "Если  λ=-5/6 , то  Δ>0 , следовательно  (-24/5; 18/5; -5/6)  - точка максимума."
   ]
  },
  {
   "cell_type": "markdown",
   "id": "99be40e9",
   "metadata": {},
   "source": [
    "2) Задание:\n",
    "Ответ: Δ=-16384-8192λ+1536xy\n",
    "    Если  λ=-1/2 , то  Δ<0 , следовательно  (-4*2^(1/2); 2^(1/2); -1/2),(4*2^(1/2); -2^(1/2); -1/2)   - точка минимума.\n",
    "    Если  λ=-7/2 , то  Δ>0 , следовательно  (4*2^(1/2); 2^(1/2); -7/2), (-4*2^(1/2); -2^(1/2); -7/2)  - точка максимума."
   ]
  },
  {
   "cell_type": "code",
   "execution_count": 6,
   "id": "173c00af",
   "metadata": {},
   "outputs": [
    {
     "name": "stdout",
     "output_type": "stream",
     "text": [
      "1.6048142752090664 3.511863974639031\n"
     ]
    }
   ],
   "source": [
    "# 3) Задание\n",
    "from scipy.optimize import fsolve, broyden2\n",
    "import math\n",
    "\n",
    "def equations(p):\n",
    "    x, y = p\n",
    "    # Запись системы уравнения\n",
    "    return (x**2-y**2+3*x*(y**3)-2*(x**2)*(y**2)+2*x-38*y-5, 3*(y**3)-2*(x**2)+2*(x**3)*y-5*(x**2)*(y**2)+5)\n",
    "\n",
    "# Численное решение системы уравнений\n",
    "x, y = fsolve(equations, (10, 10))\n",
    "print (x, y)"
   ]
  },
  {
   "cell_type": "code",
   "execution_count": null,
   "id": "a9edd3a1",
   "metadata": {},
   "outputs": [],
   "source": [
    "\n"
   ]
  }
 ],
 "metadata": {
  "kernelspec": {
   "display_name": "Python 3 (ipykernel)",
   "language": "python",
   "name": "python3"
  },
  "language_info": {
   "codemirror_mode": {
    "name": "ipython",
    "version": 3
   },
   "file_extension": ".py",
   "mimetype": "text/x-python",
   "name": "python",
   "nbconvert_exporter": "python",
   "pygments_lexer": "ipython3",
   "version": "3.9.2"
  }
 },
 "nbformat": 4,
 "nbformat_minor": 5
}
