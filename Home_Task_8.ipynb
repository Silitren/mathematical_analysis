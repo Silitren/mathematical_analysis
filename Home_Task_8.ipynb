{
 "cells": [
  {
   "cell_type": "markdown",
   "id": "6febb876",
   "metadata": {},
   "source": [
    "1) Первое задание\n",
    "$$\\int \\frac{2x+3}{(x-2)(x+5)}\\,dx = \\int \\frac{(x-2)+(x+5)}{(x-2)(x+5)}\\, dx = \\int \\frac{(x-2)}{(x-2)(x+5)}\\, dx+\\int \\frac{}{(x-2)(x+5)}\\, dx = \\int \\frac{dx}{(x+5)}+\\int \\frac{dx}{(x-2)}  =$$\n",
    "### $$ = ln(|x-2|) + ln(|x+5|)+C - ответ$$"
   ]
  },
  {
   "cell_type": "markdown",
   "id": "dee94fb9",
   "metadata": {},
   "source": [
    "2) Второе задание\n",
    "$$\\int e^{2x}\\cos 3x\\,dx $$ \n",
    "### $$U=\\cos 3x\\,\\,\\,\\,\\,\\Rightarrow\\,\\,\\,\\,\\, dU=-3\\sin3xdx$$ \n",
    "### $$dV=e^{2x} dx\\,\\,\\,\\,\\,\\Rightarrow\\,\\,\\,\\,\\, V=\\frac{e^{2x}}{2}$$ \n",
    "\n",
    "Тогда:\n",
    "\n",
    "### $$\\int e^{2x}\\cos 3x\\,dx=\\frac{1}{2}e^{2x}\\cos 3x-(-\\frac{3}{2})\\int e^{2x}\\cdot (\\sin 3x)\\,dx$$ \n",
    "### $$U=\\sin3x\\,\\,\\,\\,\\,\\Rightarrow\\,\\,\\,\\,\\, dU=3\\cos 3xdx$$ \n",
    "### $$dV=e^{2x} dx\\,\\,\\,\\,\\,\\Rightarrow\\,\\,\\,\\,\\, V=\\frac{e^{2x}}{2}$$ \n",
    "Тогда:\n",
    "\n",
    "### $$\\int e^{2x}\\cos 3x\\,dx=\\frac{1}{2}e^{2x}\\cos 3x + \\frac{3}{4} e^{2x}\\sin 3x-\\frac{9}{4}\\int e^{2x}\\cos 3x\\, dx$$ \n",
    "### $$\\frac{13}{4}\\int e^{2x}\\cos 3x\\,dx=\\frac{1}{2}e^{2x}\\cos 3x+\\frac{3}{4} e^{2x}\\sin 3x$$ \n",
    "### $$\\int e^{2x}\\cos 3x\\,dx=\\frac{e^{2x}}{13}(3sin 3x+2cos3x) + С$$ "
   ]
  },
  {
   "cell_type": "markdown",
   "id": "e5808641",
   "metadata": {},
   "source": [
    "3) Третье задание\n",
    "### $$\\int\\limits_0^{\\ln2}xe^{-x}dx$$ \n",
    "Тогда:\n",
    "### $$U=x\\,\\,\\,\\,\\,\\Rightarrow\\,\\,\\,\\,\\, dU=dx$$ \n",
    "### $$dV=e^{-x}dx\\,\\,\\,\\,\\,\\Rightarrow\\,\\,\\,\\,\\, V=-e^{-x}$$ \n",
    "### $$\\int\\limits_0^{\\ln2}xe^{-x}dx = -xe^{-x}\\bigg|_0^{\\ln2}-\\int\\limits_0^{\\ln2}-e^{-x}dx$$ \n",
    "### $$Т.к.\\\\e^{ln2}=2$$ \n",
    "### $$\\int\\limits_0^{\\ln2}xe^{-x}dx = \\frac{1}{2}(1-\\ln2)$$"
   ]
  },
  {
   "cell_type": "markdown",
   "id": "7474c687",
   "metadata": {},
   "source": [
    "4) Четвертое задание:\n",
    "### $$\\int\\limits_2^{+\\infty} \\frac{dx}{x^2+x-2}$$\n",
    "Упростим знаменатель для замены\n",
    "### $$\\int\\limits_2^{+\\infty} \\frac{dx}{x^2+x-2} = \\int\\limits_2^{+\\infty} \\frac{dx}{(x+\\frac{1}{2})^2-\\frac{9}{4}}$$\n",
    "Выполним замену:\n",
    "### $$x+\\frac{1}{2}=t \\,\\,\\,\\,\\,\\Rightarrow\\,\\,\\,\\,\\, dx=dt$$\n",
    "Получаем:\n",
    "### $$\\int\\limits_2^{+\\infty} \\frac{dt}{t^2-\\frac{9}{4}}$$\n",
    "Приведем к табличному значению\n",
    "### $$-\\frac{4}{9}\\int\\limits_2^{+\\infty} \\frac{dt}{1-(\\frac{2t}{3})^2}$$\n",
    "Делаем замену:\n",
    "### $$\\frac{2t}{3}=u \\,\\,\\,\\,\\,\\Rightarrow\\,\\,\\,\\,\\, \\frac{2dt}{3}=du \\,\\,\\,\\,\\,\\Rightarrow\\,\\,\\,\\,\\, dt=\\frac{3du}{2}$$\n",
    "### $$-\\frac{4}{9}\\int\\limits_2^{+\\infty} \\frac{\\frac{3du}{2}}{1-u^2} = -\\frac{2}{3}\\int\\limits_2^{+\\infty} \\frac{du}{1-u^2} $$\n",
    "А теперь ракета, быстро все раскладываем и упрощаем:\n",
    "### $$-\\frac{2}{3}\\int\\limits_2^{+\\infty} \\frac{du}{1-u^2} = \\lim_{b\\to +\\infty}-\\frac{2}{3}\\int\\limits_2^{b} \\frac{du}{1-u^2}=\\lim_{b\\to +\\infty}(-\\frac{2}{3})\\frac{1}{2}\\ln\\Bigr|\\frac{1+u}{1-u}\\Bigl|-(-\\frac{2}{3})\\frac{1}{2}\\ln\\Bigr|\\frac{1+u}{1-u}\\Bigl|\\bigg|_2^2$$\n",
    "Предел даст нам ноль (просто аналитически прикинул, степени одинаковые, a ln(1)=0 => $$\\lim_{b\\to +\\infty}0=0$$ , после обратной подстановки и вычислении при x=2, получим:\n",
    "### $$\\int\\limits_2^{+\\infty} \\frac{dx}{x^2+x-2} = \\frac{2}{3}\\ln2$$"
   ]
  },
  {
   "cell_type": "markdown",
   "id": "7d8a7e1e",
   "metadata": {},
   "source": [
    "__5*.__ Вычислить несобственный интеграл\n",
    "\n",
    "### $$\\int\\limits_0^{1} \\ln x\\,dx$$\n",
    "Не знаю правильно ли так, но \n",
    "### $$U=lnx\\,\\,\\,\\,\\,\\Rightarrow\\,\\,\\,\\,\\, dU=\\frac{1}{x}dx$$ \n",
    "### $$dV=dx\\,\\,\\,\\,\\,\\Rightarrow\\,\\,\\,\\,\\, V=x$$ \n",
    "### $$\\int\\limits_0^{1} \\ln x\\,dx = xlnx\\bigg|_0^1-\\int\\limits_0^1\\frac{1}{x}xdx = (-x)\\bigg|_0^1=(-1)-(-0)= -1$$, \n",
    "т.к.$$ xlnx\\bigg|_0^1 = 1*ln(1)-0*ln(0) = 0-0=0$$"
   ]
  }
 ],
 "metadata": {
  "kernelspec": {
   "display_name": "Python 3 (ipykernel)",
   "language": "python",
   "name": "python3"
  },
  "language_info": {
   "codemirror_mode": {
    "name": "ipython",
    "version": 3
   },
   "file_extension": ".py",
   "mimetype": "text/x-python",
   "name": "python",
   "nbconvert_exporter": "python",
   "pygments_lexer": "ipython3",
   "version": "3.9.2"
  }
 },
 "nbformat": 4,
 "nbformat_minor": 5
}
